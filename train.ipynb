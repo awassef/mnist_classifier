{
  "nbformat": 4,
  "nbformat_minor": 0,
  "metadata": {
    "kernelspec": {
      "display_name": "Python 3",
      "language": "python",
      "name": "python3"
    },
    "language_info": {
      "codemirror_mode": {
        "name": "ipython",
        "version": 3
      },
      "file_extension": ".py",
      "mimetype": "text/x-python",
      "name": "python",
      "nbconvert_exporter": "python",
      "pygments_lexer": "ipython3",
      "version": "3.8.2"
    },
    "colab": {
      "name": "train.ipynb",
      "provenance": []
    }
  },
  "cells": [
    {
      "cell_type": "markdown",
      "metadata": {
        "id": "7kRqhZ8qIkPv"
      },
      "source": [
        "# **MNIST Classifier**\n",
        "In this notebook we will create a classifier which can classify handwritten digits. "
      ]
    },
    {
      "cell_type": "code",
      "metadata": {
        "id": "dSZ6TKWgQgUx"
      },
      "source": [
        "%tensorflow_version 2.x\n",
        "\n",
        "import matplotlib.pyplot as plt\n",
        "import numpy as np\n",
        "import tensorflow as tf\n",
        "\n",
        "\n",
        "from tensorflow.keras import datasets, layers"
      ],
      "execution_count": 86,
      "outputs": []
    },
    {
      "cell_type": "markdown",
      "metadata": {
        "id": "yAbEFOL2Vzka"
      },
      "source": [
        "Load MNIST Dataset"
      ]
    },
    {
      "cell_type": "code",
      "metadata": {
        "id": "TQVT_Wd7URVq"
      },
      "source": [
        "(x_train, y_train), (x_test, y_test) = datasets.mnist.load_data()"
      ],
      "execution_count": 87,
      "outputs": []
    },
    {
      "cell_type": "code",
      "metadata": {
        "id": "BJRtwzOhVkva",
        "outputId": "fdffaad3-0ed1-478d-8859-e49e41823da7",
        "colab": {
          "base_uri": "https://localhost:8080/"
        }
      },
      "source": [
        "print(x_train.shape, x_test.shape)\n",
        "print(y_train.shape, y_test.shape)"
      ],
      "execution_count": 88,
      "outputs": [
        {
          "output_type": "stream",
          "text": [
            "(60000, 28, 28) (10000, 28, 28)\n",
            "(60000,) (10000,)\n"
          ],
          "name": "stdout"
        }
      ]
    },
    {
      "cell_type": "markdown",
      "metadata": {
        "id": "jrvRIZrHV3k4"
      },
      "source": [
        "Our images are 28x28 pixels, and the split is 60000 training samples, 10000 test samples\n",
        "\n",
        "Let's take a look at a few samples"
      ]
    },
    {
      "cell_type": "code",
      "metadata": {
        "id": "EyiPEF6lZ4jv",
        "outputId": "4feeecf6-db84-45cd-feb8-4956691c3c31",
        "colab": {
          "base_uri": "https://localhost:8080/",
          "height": 297
        }
      },
      "source": [
        "for i in range(4):\n",
        "  plt.subplot(2,2,i+1)\n",
        "  plt.title('class {}'.format(y_train[i]))\n",
        "  plt.imshow(x_train[i])\n",
        "plt.tight_layout()"
      ],
      "execution_count": 89,
      "outputs": [
        {
          "output_type": "display_data",
          "data": {
            "image/png": "[encoded data removed]",
            "text/plain": [
              "<Figure size 432x288 with 4 Axes>"
            ]
          },
          "metadata": {
            "tags": [],
            "needs_background": "light"
          }
        }
      ]
    },
    {
      "cell_type": "markdown",
      "metadata": {
        "id": "xqyKd1LFXoV5"
      },
      "source": [
        "## Normalization\n",
        "Typically, with neural networks we like to normalize the data. This is because having data which is not normalized means that higher values can have a disproportionate affect on the neural network. For example, if we have a neural network being used to guess house prices, the neural network will be more biased to high-priced houses because they have affect the weights on a larger scale during the training process. To combat we use a process called normalization."
      ]
    },
    {
      "cell_type": "code",
      "metadata": {
        "id": "ljD_5DcBVqBh",
        "outputId": "0563fa45-cf39-490a-8eb0-38b9e9a13abf",
        "colab": {
          "base_uri": "https://localhost:8080/"
        }
      },
      "source": [
        "print(x_train.dtype)\n",
        "print(np.max(x_train[0]))\n",
        "print(np.max(y_train))"
      ],
      "execution_count": 90,
      "outputs": [
        {
          "output_type": "stream",
          "text": [
            "uint8\n",
            "255\n",
            "9\n"
          ],
          "name": "stdout"
        }
      ]
    },
    {
      "cell_type": "markdown",
      "metadata": {
        "id": "MrX0zrENbL3P"
      },
      "source": [
        "The data type is unsigned integer 8. We need to normalize each piece of data by the maximum value.\n",
        "\n",
        "Since there are 8 bits, the max value is 2^8 - 1 (i.e. 255). We can simply normalize by dividing by this value, or we can use the handly normalize function provided by keras."
      ]
    },
    {
      "cell_type": "code",
      "metadata": {
        "id": "WFgwZv2qbKF0",
        "outputId": "be0c6799-89fa-494e-bbdc-77b956ef6b8b",
        "colab": {
          "base_uri": "https://localhost:8080/"
        }
      },
      "source": [
        "x_train = x_train / 255.\n",
        "x_test = x_test / 255.\n",
        "#x_train = tf.keras.utils.normalize(x_train, axis=1)\n",
        "#x_test = tf.keras.utils.normalize(x_test, axis=1)\n",
        "\n",
        "print(np.max(x_train[0]))\n",
        "print(np.min(x_train[0]))"
      ],
      "execution_count": 91,
      "outputs": [
        {
          "output_type": "stream",
          "text": [
            "1.0\n",
            "0.0\n"
          ],
          "name": "stdout"
        }
      ]
    },
    {
      "cell_type": "code",
      "metadata": {
        "id": "oUFHQyLxf_9K"
      },
      "source": [
        "model = tf.keras.models.Sequential()\n",
        "model.add(tf.keras.layers.Flatten())\n",
        "model.add(tf.keras.layers.Dense(128, activation=tf.nn.relu))\n",
        "model.add(tf.keras.layers.Dense(128, activation=tf.nn.relu))\n",
        "model.add(tf.keras.layers.Dense(10, activation=tf.nn.softmax))"
      ],
      "execution_count": 92,
      "outputs": []
    },
    {
      "cell_type": "code",
      "metadata": {
        "id": "64-2AY-dgvpW"
      },
      "source": [
        "model.compile(optimizer='adam',\n",
        "              loss='sparse_categorical_crossentropy',\n",
        "              metrics=['accuracy'])"
      ],
      "execution_count": 93,
      "outputs": []
    },
    {
      "cell_type": "code",
      "metadata": {
        "id": "lCqlPgv-hB8J",
        "outputId": "98882e37-559e-4a63-8656-8576fd0b2d3a",
        "colab": {
          "base_uri": "https://localhost:8080/"
        }
      },
      "source": [
        "model.fit(x_train, y_train, epochs=3)"
      ],
      "execution_count": 113,
      "outputs": [
        {
          "output_type": "stream",
          "text": [
            "Epoch 1/3\n",
            "1875/1875 [==============================] - 4s 2ms/step - loss: 0.0238 - accuracy: 0.9919\n",
            "Epoch 2/3\n",
            "1875/1875 [==============================] - 4s 2ms/step - loss: 0.0195 - accuracy: 0.9936\n",
            "Epoch 3/3\n",
            "1875/1875 [==============================] - 4s 2ms/step - loss: 0.0204 - accuracy: 0.9935\n"
          ],
          "name": "stdout"
        },
        {
          "output_type": "execute_result",
          "data": {
            "text/plain": [
              "<tensorflow.python.keras.callbacks.History at 0x7ff11bcf0630>"
            ]
          },
          "metadata": {
            "tags": []
          },
          "execution_count": 113
        }
      ]
    },
    {
      "cell_type": "code",
      "metadata": {
        "id": "rp_AiSgxiNkt",
        "outputId": "b757a82b-8c83-459f-86c7-409fe05d6c1c",
        "colab": {
          "base_uri": "https://localhost:8080/"
        }
      },
      "source": [
        "model.summary()\n",
        "model.save('num_classifier.model')\n",
        "print('model saved')"
      ],
      "execution_count": 115,
      "outputs": [
        {
          "output_type": "stream",
          "text": [
            "Model: \"sequential_9\"\n",
            "_________________________________________________________________\n",
            "Layer (type)                 Output Shape              Param #   \n",
            "=================================================================\n",
            "flatten_8 (Flatten)          (None, 784)               0         \n",
            "_________________________________________________________________\n",
            "dense_23 (Dense)             (None, 128)               100480    \n",
            "_________________________________________________________________\n",
            "dense_24 (Dense)             (None, 128)               16512     \n",
            "_________________________________________________________________\n",
            "dense_25 (Dense)             (None, 10)                1290      \n",
            "=================================================================\n",
            "Total params: 118,282\n",
            "Trainable params: 118,282\n",
            "Non-trainable params: 0\n",
            "_________________________________________________________________\n",
            "INFO:tensorflow:Assets written to: num_classifier.model/assets\n",
            "model saved\n"
          ],
          "name": "stdout"
        }
      ]
    },
    {
      "cell_type": "code",
      "metadata": {
        "id": "t1UfN-IUif0k",
        "outputId": "023a7478-99cf-4f97-ca6e-8a0b6776a07e",
        "colab": {
          "base_uri": "https://localhost:8080/"
        }
      },
      "source": [
        "test_loss, test_acc = model.evaluate(x_test,  y_test, verbose=2)"
      ],
      "execution_count": 114,
      "outputs": [
        {
          "output_type": "stream",
          "text": [
            "313/313 - 0s - loss: 0.0919 - accuracy: 0.9781\n"
          ],
          "name": "stdout"
        }
      ]
    }
  ]
}